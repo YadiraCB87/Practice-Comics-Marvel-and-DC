{
 "cells": [
  {
   "cell_type": "code",
   "execution_count": 29,
   "id": "7d6cc210-7694-45be-b416-bfea269794e4",
   "metadata": {
    "tags": []
   },
   "outputs": [],
   "source": [
    "## Importar Librerias\n",
    "\n",
    "import pandas as pd\n",
    "import seaborn as sns"
   ]
  },
  {
   "cell_type": "code",
   "execution_count": 6,
   "id": "1343fb0a-f0f9-4040-ba4b-809e078b920a",
   "metadata": {
    "tags": []
   },
   "outputs": [
    {
     "data": {
      "text/html": [
       "<div>\n",
       "<style scoped>\n",
       "    .dataframe tbody tr th:only-of-type {\n",
       "        vertical-align: middle;\n",
       "    }\n",
       "\n",
       "    .dataframe tbody tr th {\n",
       "        vertical-align: top;\n",
       "    }\n",
       "\n",
       "    .dataframe thead th {\n",
       "        text-align: right;\n",
       "    }\n",
       "</style>\n",
       "<table border=\"1\" class=\"dataframe\">\n",
       "  <thead>\n",
       "    <tr style=\"text-align: right;\">\n",
       "      <th></th>\n",
       "      <th>name</th>\n",
       "      <th>id</th>\n",
       "      <th>align</th>\n",
       "      <th>eye</th>\n",
       "      <th>hair</th>\n",
       "      <th>gender</th>\n",
       "      <th>gsm</th>\n",
       "      <th>alive</th>\n",
       "      <th>appearances</th>\n",
       "      <th>first_appear</th>\n",
       "      <th>publisher</th>\n",
       "    </tr>\n",
       "  </thead>\n",
       "  <tbody>\n",
       "    <tr>\n",
       "      <th>0</th>\n",
       "      <td>Spider-Man (Peter Parker)</td>\n",
       "      <td>Secret</td>\n",
       "      <td>Good</td>\n",
       "      <td>Hazel Eyes</td>\n",
       "      <td>Brown Hair</td>\n",
       "      <td>Male</td>\n",
       "      <td>NaN</td>\n",
       "      <td>Living Characters</td>\n",
       "      <td>4043.0</td>\n",
       "      <td>Aug-62</td>\n",
       "      <td>marvel</td>\n",
       "    </tr>\n",
       "    <tr>\n",
       "      <th>1</th>\n",
       "      <td>Captain America (Steven Rogers)</td>\n",
       "      <td>Public</td>\n",
       "      <td>Good</td>\n",
       "      <td>Blue Eyes</td>\n",
       "      <td>White Hair</td>\n",
       "      <td>Male</td>\n",
       "      <td>NaN</td>\n",
       "      <td>Living Characters</td>\n",
       "      <td>3360.0</td>\n",
       "      <td>Mar-41</td>\n",
       "      <td>marvel</td>\n",
       "    </tr>\n",
       "    <tr>\n",
       "      <th>2</th>\n",
       "      <td>Wolverine (James \\\"Logan\\\" Howlett)</td>\n",
       "      <td>Public</td>\n",
       "      <td>Neutral</td>\n",
       "      <td>Blue Eyes</td>\n",
       "      <td>Black Hair</td>\n",
       "      <td>Male</td>\n",
       "      <td>NaN</td>\n",
       "      <td>Living Characters</td>\n",
       "      <td>3061.0</td>\n",
       "      <td>Oct-74</td>\n",
       "      <td>marvel</td>\n",
       "    </tr>\n",
       "    <tr>\n",
       "      <th>3</th>\n",
       "      <td>Iron Man (Anthony \\\"Tony\\\" Stark)</td>\n",
       "      <td>Public</td>\n",
       "      <td>Good</td>\n",
       "      <td>Blue Eyes</td>\n",
       "      <td>Black Hair</td>\n",
       "      <td>Male</td>\n",
       "      <td>NaN</td>\n",
       "      <td>Living Characters</td>\n",
       "      <td>2961.0</td>\n",
       "      <td>Mar-63</td>\n",
       "      <td>marvel</td>\n",
       "    </tr>\n",
       "    <tr>\n",
       "      <th>4</th>\n",
       "      <td>Thor (Thor Odinson)</td>\n",
       "      <td>No Dual</td>\n",
       "      <td>Good</td>\n",
       "      <td>Blue Eyes</td>\n",
       "      <td>Blond Hair</td>\n",
       "      <td>Male</td>\n",
       "      <td>NaN</td>\n",
       "      <td>Living Characters</td>\n",
       "      <td>2258.0</td>\n",
       "      <td>Nov-50</td>\n",
       "      <td>marvel</td>\n",
       "    </tr>\n",
       "  </tbody>\n",
       "</table>\n",
       "</div>"
      ],
      "text/plain": [
       "                                  name       id    align         eye  \\\n",
       "0            Spider-Man (Peter Parker)   Secret     Good  Hazel Eyes   \n",
       "1      Captain America (Steven Rogers)   Public     Good   Blue Eyes   \n",
       "2  Wolverine (James \\\"Logan\\\" Howlett)   Public  Neutral   Blue Eyes   \n",
       "3    Iron Man (Anthony \\\"Tony\\\" Stark)   Public     Good   Blue Eyes   \n",
       "4                  Thor (Thor Odinson)  No Dual     Good   Blue Eyes   \n",
       "\n",
       "         hair gender  gsm              alive  appearances first_appear  \\\n",
       "0  Brown Hair   Male  NaN  Living Characters       4043.0       Aug-62   \n",
       "1  White Hair   Male  NaN  Living Characters       3360.0       Mar-41   \n",
       "2  Black Hair   Male  NaN  Living Characters       3061.0       Oct-74   \n",
       "3  Black Hair   Male  NaN  Living Characters       2961.0       Mar-63   \n",
       "4  Blond Hair   Male  NaN  Living Characters       2258.0       Nov-50   \n",
       "\n",
       "  publisher  \n",
       "0    marvel  \n",
       "1    marvel  \n",
       "2    marvel  \n",
       "3    marvel  \n",
       "4    marvel  "
      ]
     },
     "execution_count": 6,
     "metadata": {},
     "output_type": "execute_result"
    }
   ],
   "source": [
    "## Como leer archivos planos \n",
    "\n",
    "datos = pd.read_csv(r\"C:\\Users\\ViG\\Desktop\\comics.csv\")\n",
    "datos.head()"
   ]
  },
  {
   "cell_type": "code",
   "execution_count": 8,
   "id": "0dbbe671-158f-4310-b076-677535c8c7c2",
   "metadata": {
    "tags": []
   },
   "outputs": [
    {
     "data": {
      "text/plain": [
       "id\n",
       "No Dual    1788\n",
       "Public     6994\n",
       "Secret     8698\n",
       "Unknown       9\n",
       "dtype: int64"
      ]
     },
     "execution_count": 8,
     "metadata": {},
     "output_type": "execute_result"
    }
   ],
   "source": [
    "datos.groupby( by = \"id\"). size()\n",
    "\n",
    "## Use of the group by Fuction"
   ]
  },
  {
   "cell_type": "code",
   "execution_count": 9,
   "id": "7df7171e-4c38-48e7-ba59-344c9217803a",
   "metadata": {
    "tags": []
   },
   "outputs": [
    {
     "data": {
      "text/plain": [
       "align\n",
       "Bad                   9615\n",
       "Good                  7468\n",
       "Neutral               2773\n",
       "Reformed Criminals       3\n",
       "dtype: int64"
      ]
     },
     "execution_count": 9,
     "metadata": {},
     "output_type": "execute_result"
    }
   ],
   "source": [
    "datos.groupby( by = \"align\"). size()"
   ]
  },
  {
   "cell_type": "code",
   "execution_count": 11,
   "id": "6a421aac-0983-4106-9de4-7d0ce1c09b2c",
   "metadata": {
    "tags": []
   },
   "outputs": [
    {
     "data": {
      "text/plain": [
       "eye\n",
       "Amber Eyes              15\n",
       "Auburn Hair              7\n",
       "Black Eyeballs           3\n",
       "Black Eyes             967\n",
       "Blue Eyes             3064\n",
       "Brown Eyes            2803\n",
       "Compound Eyes            1\n",
       "Gold Eyes               23\n",
       "Green Eyes             904\n",
       "Grey Eyes              135\n",
       "Hazel Eyes              99\n",
       "Magenta Eyes             2\n",
       "Multiple Eyes            7\n",
       "No Eyes                  7\n",
       "One Eye                 21\n",
       "Orange Eyes             35\n",
       "Photocellular Eyes      48\n",
       "Pink Eyes               27\n",
       "Purple Eyes             45\n",
       "Red Eyes               716\n",
       "Silver Eyes             12\n",
       "Variable Eyes           49\n",
       "Violet Eyes             23\n",
       "White Eyes             516\n",
       "Yellow Eyeballs          6\n",
       "Yellow Eyes            342\n",
       "dtype: int64"
      ]
     },
     "execution_count": 11,
     "metadata": {},
     "output_type": "execute_result"
    }
   ],
   "source": [
    "datos.groupby( by = \"eye\"). size()"
   ]
  },
  {
   "cell_type": "code",
   "execution_count": 13,
   "id": "938df9a6-b4cb-473e-8130-3a462fb3db20",
   "metadata": {
    "tags": []
   },
   "outputs": [
    {
     "data": {
      "text/plain": [
       "hair\n",
       "Auburn Hair                78\n",
       "Bald                      838\n",
       "Black Hair               5329\n",
       "Blond Hair               2326\n",
       "Blue Hair                  97\n",
       "Bronze Hair                 1\n",
       "Brown Hair               3487\n",
       "Dyed Hair                   1\n",
       "Gold Hair                  13\n",
       "Green Hair                159\n",
       "Grey Hair                 688\n",
       "Light Brown Hair            6\n",
       "Magenta Hair                5\n",
       "No Hair                  1176\n",
       "Orange Hair                64\n",
       "Orange-brown Hair           3\n",
       "Pink Hair                  42\n",
       "Platinum Blond Hair         2\n",
       "Purple Hair                79\n",
       "Red Hair                 1081\n",
       "Reddish Blond Hair          6\n",
       "Reddish Brown Hair          3\n",
       "Silver Hair                19\n",
       "Strawberry Blond Hair      75\n",
       "Variable Hair              32\n",
       "Violet Hair                 4\n",
       "White Hair               1100\n",
       "Yellow Hair                20\n",
       "dtype: int64"
      ]
     },
     "execution_count": 13,
     "metadata": {},
     "output_type": "execute_result"
    }
   ],
   "source": [
    "datos.groupby( by = \"hair\"). size()"
   ]
  },
  {
   "cell_type": "code",
   "execution_count": 14,
   "id": "80692aeb-a46a-426e-b066-af4390f26d7b",
   "metadata": {
    "tags": []
   },
   "outputs": [
    {
     "data": {
      "text/plain": [
       "gender\n",
       "Female     5804\n",
       "Male      16421\n",
       "Other        68\n",
       "dtype: int64"
      ]
     },
     "execution_count": 14,
     "metadata": {},
     "output_type": "execute_result"
    }
   ],
   "source": [
    "datos.groupby( by = \"gender\"). size()"
   ]
  },
  {
   "cell_type": "code",
   "execution_count": 15,
   "id": "275ead8d-8386-498d-bf79-8de342a08e06",
   "metadata": {
    "tags": []
   },
   "outputs": [
    {
     "data": {
      "text/plain": [
       "publisher\n",
       "dc         6896\n",
       "marvel    16376\n",
       "dtype: int64"
      ]
     },
     "execution_count": 15,
     "metadata": {},
     "output_type": "execute_result"
    }
   ],
   "source": [
    "datos.groupby( by = \"publisher\"). size()"
   ]
  },
  {
   "cell_type": "code",
   "execution_count": 18,
   "id": "a44de4ae-2a3f-4307-aedd-9e382d61f0af",
   "metadata": {
    "tags": []
   },
   "outputs": [
    {
     "data": {
      "text/html": [
       "<div>\n",
       "<style scoped>\n",
       "    .dataframe tbody tr th:only-of-type {\n",
       "        vertical-align: middle;\n",
       "    }\n",
       "\n",
       "    .dataframe tbody tr th {\n",
       "        vertical-align: top;\n",
       "    }\n",
       "\n",
       "    .dataframe thead th {\n",
       "        text-align: right;\n",
       "    }\n",
       "</style>\n",
       "<table border=\"1\" class=\"dataframe\">\n",
       "  <thead>\n",
       "    <tr style=\"text-align: right;\">\n",
       "      <th>publisher</th>\n",
       "      <th>dc</th>\n",
       "      <th>marvel</th>\n",
       "      <th>Total</th>\n",
       "    </tr>\n",
       "    <tr>\n",
       "      <th>id</th>\n",
       "      <th></th>\n",
       "      <th></th>\n",
       "      <th></th>\n",
       "    </tr>\n",
       "  </thead>\n",
       "  <tbody>\n",
       "    <tr>\n",
       "      <th>No Dual</th>\n",
       "      <td>0</td>\n",
       "      <td>1788</td>\n",
       "      <td>1788</td>\n",
       "    </tr>\n",
       "    <tr>\n",
       "      <th>Public</th>\n",
       "      <td>2466</td>\n",
       "      <td>4528</td>\n",
       "      <td>6994</td>\n",
       "    </tr>\n",
       "    <tr>\n",
       "      <th>Secret</th>\n",
       "      <td>2408</td>\n",
       "      <td>6290</td>\n",
       "      <td>8698</td>\n",
       "    </tr>\n",
       "    <tr>\n",
       "      <th>Unknown</th>\n",
       "      <td>9</td>\n",
       "      <td>0</td>\n",
       "      <td>9</td>\n",
       "    </tr>\n",
       "    <tr>\n",
       "      <th>Total</th>\n",
       "      <td>4883</td>\n",
       "      <td>12606</td>\n",
       "      <td>17489</td>\n",
       "    </tr>\n",
       "  </tbody>\n",
       "</table>\n",
       "</div>"
      ],
      "text/plain": [
       "publisher    dc  marvel  Total\n",
       "id                            \n",
       "No Dual       0    1788   1788\n",
       "Public     2466    4528   6994\n",
       "Secret     2408    6290   8698\n",
       "Unknown       9       0      9\n",
       "Total      4883   12606  17489"
      ]
     },
     "execution_count": 18,
     "metadata": {},
     "output_type": "execute_result"
    }
   ],
   "source": [
    "## Creacion de tablas cruzadas para obtener datos especificos, con filas y columnas, donde el publicador serian las columnas\n",
    "\n",
    "pd.crosstab(datos.id, datos.publisher, \n",
    "            margins = True,\n",
    "            margins_name = 'Total')"
   ]
  },
  {
   "cell_type": "code",
   "execution_count": 19,
   "id": "b5f2e2c4-fa9f-4375-bdfd-2f6fd25e0551",
   "metadata": {
    "tags": []
   },
   "outputs": [
    {
     "data": {
      "text/html": [
       "<div>\n",
       "<style scoped>\n",
       "    .dataframe tbody tr th:only-of-type {\n",
       "        vertical-align: middle;\n",
       "    }\n",
       "\n",
       "    .dataframe tbody tr th {\n",
       "        vertical-align: top;\n",
       "    }\n",
       "\n",
       "    .dataframe thead th {\n",
       "        text-align: right;\n",
       "    }\n",
       "</style>\n",
       "<table border=\"1\" class=\"dataframe\">\n",
       "  <thead>\n",
       "    <tr style=\"text-align: right;\">\n",
       "      <th>publisher</th>\n",
       "      <th>dc</th>\n",
       "      <th>marvel</th>\n",
       "      <th>Total</th>\n",
       "    </tr>\n",
       "    <tr>\n",
       "      <th>id</th>\n",
       "      <th></th>\n",
       "      <th></th>\n",
       "      <th></th>\n",
       "    </tr>\n",
       "  </thead>\n",
       "  <tbody>\n",
       "    <tr>\n",
       "      <th>No Dual</th>\n",
       "      <td>0</td>\n",
       "      <td>1788</td>\n",
       "      <td>1788</td>\n",
       "    </tr>\n",
       "    <tr>\n",
       "      <th>Public</th>\n",
       "      <td>2466</td>\n",
       "      <td>4528</td>\n",
       "      <td>6994</td>\n",
       "    </tr>\n",
       "    <tr>\n",
       "      <th>Secret</th>\n",
       "      <td>2408</td>\n",
       "      <td>6290</td>\n",
       "      <td>8698</td>\n",
       "    </tr>\n",
       "    <tr>\n",
       "      <th>Unknown</th>\n",
       "      <td>9</td>\n",
       "      <td>0</td>\n",
       "      <td>9</td>\n",
       "    </tr>\n",
       "    <tr>\n",
       "      <th>Total</th>\n",
       "      <td>6896</td>\n",
       "      <td>16376</td>\n",
       "      <td>23272</td>\n",
       "    </tr>\n",
       "  </tbody>\n",
       "</table>\n",
       "</div>"
      ],
      "text/plain": [
       "publisher    dc  marvel  Total\n",
       "id                            \n",
       "No Dual       0    1788   1788\n",
       "Public     2466    4528   6994\n",
       "Secret     2408    6290   8698\n",
       "Unknown       9       0      9\n",
       "Total      6896   16376  23272"
      ]
     },
     "execution_count": 19,
     "metadata": {},
     "output_type": "execute_result"
    }
   ],
   "source": [
    "## Agregar parametro extra para omitir valores nulos\n",
    "\n",
    "pd.crosstab(datos.id, datos.publisher, \n",
    "            margins = True,\n",
    "            margins_name = 'Total' ,\n",
    "            dropna=False)"
   ]
  },
  {
   "cell_type": "code",
   "execution_count": 20,
   "id": "dbb0ba0f-3a19-432a-84ea-5465b1650c0e",
   "metadata": {
    "tags": []
   },
   "outputs": [
    {
     "data": {
      "text/html": [
       "<div>\n",
       "<style scoped>\n",
       "    .dataframe tbody tr th:only-of-type {\n",
       "        vertical-align: middle;\n",
       "    }\n",
       "\n",
       "    .dataframe tbody tr th {\n",
       "        vertical-align: top;\n",
       "    }\n",
       "\n",
       "    .dataframe thead th {\n",
       "        text-align: right;\n",
       "    }\n",
       "</style>\n",
       "<table border=\"1\" class=\"dataframe\">\n",
       "  <thead>\n",
       "    <tr style=\"text-align: right;\">\n",
       "      <th>publisher</th>\n",
       "      <th>dc</th>\n",
       "      <th>marvel</th>\n",
       "      <th>Total</th>\n",
       "    </tr>\n",
       "    <tr>\n",
       "      <th>alive</th>\n",
       "      <th></th>\n",
       "      <th></th>\n",
       "      <th></th>\n",
       "    </tr>\n",
       "  </thead>\n",
       "  <tbody>\n",
       "    <tr>\n",
       "      <th>Deceased Characters</th>\n",
       "      <td>1693</td>\n",
       "      <td>3765</td>\n",
       "      <td>5458</td>\n",
       "    </tr>\n",
       "    <tr>\n",
       "      <th>Living Characters</th>\n",
       "      <td>5200</td>\n",
       "      <td>12608</td>\n",
       "      <td>17808</td>\n",
       "    </tr>\n",
       "    <tr>\n",
       "      <th>Total</th>\n",
       "      <td>6893</td>\n",
       "      <td>16373</td>\n",
       "      <td>23266</td>\n",
       "    </tr>\n",
       "  </tbody>\n",
       "</table>\n",
       "</div>"
      ],
      "text/plain": [
       "publisher              dc  marvel  Total\n",
       "alive                                   \n",
       "Deceased Characters  1693    3765   5458\n",
       "Living Characters    5200   12608  17808\n",
       "Total                6893   16373  23266"
      ]
     },
     "execution_count": 20,
     "metadata": {},
     "output_type": "execute_result"
    }
   ],
   "source": [
    "## Determinar si los comics de marval tieden a exterminar sus personajes o identificar si es DC, Se utiliza una tabla cruzada\n",
    "\n",
    "pd.crosstab(datos.alive, datos.publisher, \n",
    "            margins = True,\n",
    "            margins_name = 'Total')"
   ]
  },
  {
   "cell_type": "code",
   "execution_count": 23,
   "id": "d478a87a-20aa-445e-b13b-6dad0e9ff991",
   "metadata": {
    "tags": []
   },
   "outputs": [
    {
     "data": {
      "text/html": [
       "<div>\n",
       "<style scoped>\n",
       "    .dataframe tbody tr th:only-of-type {\n",
       "        vertical-align: middle;\n",
       "    }\n",
       "\n",
       "    .dataframe tbody tr th {\n",
       "        vertical-align: top;\n",
       "    }\n",
       "\n",
       "    .dataframe thead th {\n",
       "        text-align: right;\n",
       "    }\n",
       "</style>\n",
       "<table border=\"1\" class=\"dataframe\">\n",
       "  <thead>\n",
       "    <tr style=\"text-align: right;\">\n",
       "      <th>publisher</th>\n",
       "      <th>dc</th>\n",
       "      <th>marvel</th>\n",
       "    </tr>\n",
       "    <tr>\n",
       "      <th>alive</th>\n",
       "      <th></th>\n",
       "      <th></th>\n",
       "    </tr>\n",
       "  </thead>\n",
       "  <tbody>\n",
       "    <tr>\n",
       "      <th>Deceased Characters</th>\n",
       "      <td>24.6</td>\n",
       "      <td>23.0</td>\n",
       "    </tr>\n",
       "    <tr>\n",
       "      <th>Living Characters</th>\n",
       "      <td>75.4</td>\n",
       "      <td>77.0</td>\n",
       "    </tr>\n",
       "  </tbody>\n",
       "</table>\n",
       "</div>"
      ],
      "text/plain": [
       "publisher              dc  marvel\n",
       "alive                            \n",
       "Deceased Characters  24.6    23.0\n",
       "Living Characters    75.4    77.0"
      ]
     },
     "execution_count": 23,
     "metadata": {},
     "output_type": "execute_result"
    }
   ],
   "source": [
    "## Calcular porcentajes tabla cruzada, utilzando el parametro de normalize, se cierra parentesis desde el inicio \n",
    "\n",
    "(pd.crosstab(datos.alive, datos.publisher, \n",
    "\n",
    "            normalize = 'columns') * 100).round(1)"
   ]
  },
  {
   "cell_type": "code",
   "execution_count": 24,
   "id": "cb8980a2-5cc3-4ba5-aff8-af1717b6f9f1",
   "metadata": {
    "tags": []
   },
   "outputs": [
    {
     "data": {
      "text/html": [
       "<div>\n",
       "<style scoped>\n",
       "    .dataframe tbody tr th:only-of-type {\n",
       "        vertical-align: middle;\n",
       "    }\n",
       "\n",
       "    .dataframe tbody tr th {\n",
       "        vertical-align: top;\n",
       "    }\n",
       "\n",
       "    .dataframe thead th {\n",
       "        text-align: right;\n",
       "    }\n",
       "</style>\n",
       "<table border=\"1\" class=\"dataframe\">\n",
       "  <thead>\n",
       "    <tr style=\"text-align: right;\">\n",
       "      <th>publisher</th>\n",
       "      <th>dc</th>\n",
       "      <th>marvel</th>\n",
       "    </tr>\n",
       "    <tr>\n",
       "      <th>alive</th>\n",
       "      <th></th>\n",
       "      <th></th>\n",
       "    </tr>\n",
       "  </thead>\n",
       "  <tbody>\n",
       "    <tr>\n",
       "      <th>Deceased Characters</th>\n",
       "      <td>31.0</td>\n",
       "      <td>69.0</td>\n",
       "    </tr>\n",
       "    <tr>\n",
       "      <th>Living Characters</th>\n",
       "      <td>29.2</td>\n",
       "      <td>70.8</td>\n",
       "    </tr>\n",
       "  </tbody>\n",
       "</table>\n",
       "</div>"
      ],
      "text/plain": [
       "publisher              dc  marvel\n",
       "alive                            \n",
       "Deceased Characters  31.0    69.0\n",
       "Living Characters    29.2    70.8"
      ]
     },
     "execution_count": 24,
     "metadata": {},
     "output_type": "execute_result"
    }
   ],
   "source": [
    "## Porcentaje con respecto al valor de las filas, el porcetaje se asocia con respecto a las filas \n",
    "\n",
    "(pd.crosstab(datos.alive, datos.publisher, \n",
    "\n",
    "            normalize = 'index') * 100).round(1)\n"
   ]
  },
  {
   "cell_type": "code",
   "execution_count": 34,
   "id": "dc89a324-fb7c-4627-9d17-c3535a587f92",
   "metadata": {
    "tags": []
   },
   "outputs": [],
   "source": [
    "## Graficar valores cualitativos entre dos variables, se puede utilziar el grafico de la libreria de Seaborn y crosstap de la libreria de Pandas\n",
    "## Mapa de calor\n",
    "\n",
    "#sns.heatmap(pd.crosstab(datos.alive,datos.publisher),\n",
    "           #cmap='YIGnBu',\n",
    "            #annot = True,\n",
    "            #cbar = False) \n",
    "\n"
   ]
  },
  {
   "cell_type": "code",
   "execution_count": 35,
   "id": "28452e08-9e64-4a0e-b7eb-6558d7a605a9",
   "metadata": {
    "tags": []
   },
   "outputs": [
    {
     "data": {
      "image/png": "[encoded data removed]",
      "text/plain": [
       "<Figure size 400x400 with 1 Axes>"
      ]
     },
     "metadata": {},
     "output_type": "display_data"
    }
   ],
   "source": [
    "## Grafico para explorar variables, grafico de barras\n",
    "\n",
    "ax = datos.groupby(by='align').size().plot.barh(figsize=(4,4), legend = False)"
   ]
  },
  {
   "cell_type": "code",
   "execution_count": 36,
   "id": "0c8d4baa-6a2e-4d02-8230-9496b5639d7e",
   "metadata": {
    "tags": []
   },
   "outputs": [
    {
     "data": {
      "text/plain": [
       "<Axes: ylabel='id'>"
      ]
     },
     "execution_count": 36,
     "metadata": {},
     "output_type": "execute_result"
    },
    {
     "data": {
      "image/png": "[encoded data removed]",
      "text/plain": [
       "<Figure size 640x480 with 1 Axes>"
      ]
     },
     "metadata": {},
     "output_type": "display_data"
    }
   ],
   "source": [
    "## Graficar tablas cruzamente, primeramente se crea un objeto\n",
    "\n",
    "graficos1 = pd.crosstab(datos.id,datos.publisher)\n",
    "graficos1.plot.barh()"
   ]
  },
  {
   "cell_type": "code",
   "execution_count": 37,
   "id": "7c29a284-7c09-4339-bbbc-83f19bbd4242",
   "metadata": {
    "tags": []
   },
   "outputs": [
    {
     "data": {
      "text/plain": [
       "<Axes: ylabel='alive'>"
      ]
     },
     "execution_count": 37,
     "metadata": {},
     "output_type": "execute_result"
    },
    {
     "data": {
      "image/png": "[encoded data removed]",
      "text/plain": [
       "<Figure size 640x480 with 1 Axes>"
      ]
     },
     "metadata": {},
     "output_type": "display_data"
    }
   ],
   "source": [
    "## Grafico 2 personajes con vida o sin vida\n",
    "\n",
    "graficos1 = pd.crosstab(datos.alive,datos.publisher)\n",
    "graficos1.plot.barh()"
   ]
  },
  {
   "cell_type": "code",
   "execution_count": 39,
   "id": "d60b2e48-8d6c-4732-a9bc-34f54f5f0963",
   "metadata": {
    "tags": []
   },
   "outputs": [
    {
     "data": {
      "text/plain": [
       "<Axes: ylabel='publisher'>"
      ]
     },
     "execution_count": 39,
     "metadata": {},
     "output_type": "execute_result"
    },
    {
     "data": {
      "image/png": "[encoded data removed]",
      "text/plain": [
       "<Figure size 640x480 with 1 Axes>"
      ]
     },
     "metadata": {},
     "output_type": "display_data"
    }
   ],
   "source": [
    "## Invertir los valores para identificar relaciones entre las variables \n",
    "\n",
    "graficos1_1 = pd.crosstab(datos.publisher,datos.id)\n",
    "graficos1_1.plot.barh()"
   ]
  },
  {
   "cell_type": "code",
   "execution_count": 42,
   "id": "2f43c9fe-6694-4774-8de6-15a9546cacdd",
   "metadata": {
    "tags": []
   },
   "outputs": [
    {
     "data": {
      "text/plain": [
       "<Axes: ylabel='alive'>"
      ]
     },
     "execution_count": 42,
     "metadata": {},
     "output_type": "execute_result"
    },
    {
     "data": {
      "image/png": "[encoded data removed]",
      "text/plain": [
       "<Figure size 640x480 with 1 Axes>"
      ]
     },
     "metadata": {},
     "output_type": "display_data"
    }
   ],
   "source": [
    "## Distribucion Porcentual , para graficar \n",
    "## Se crea el objeto\n",
    "## Lamdba aplica una funcion especifica al objeto que se llama\n",
    "\n",
    "datos_porcentuales_grafico = graficos1.apply(lambda x: (x*100) /sum(x),axis=1)\n",
    "datos_porcentuales_grafico.plot.barh(stacked=True)"
   ]
  },
  {
   "cell_type": "code",
   "execution_count": 44,
   "id": "94e54dad-0afa-4f2e-86ec-f1a21d7293cb",
   "metadata": {
    "tags": []
   },
   "outputs": [
    {
     "data": {
      "text/plain": [
       "<Axes: ylabel='publisher'>"
      ]
     },
     "execution_count": 44,
     "metadata": {},
     "output_type": "execute_result"
    },
    {
     "data": {
      "image/png": "[encoded data removed]",
      "text/plain": [
       "<Figure size 640x480 with 1 Axes>"
      ]
     },
     "metadata": {},
     "output_type": "display_data"
    }
   ],
   "source": [
    "datos_porcentuales_grafico = graficos1_1.apply(lambda x: (x*100) /sum(x),axis=1)\n",
    "datos_porcentuales_grafico.plot.barh(stacked=True)"
   ]
  },
  {
   "cell_type": "code",
   "execution_count": 46,
   "id": "77d8e63c-89e2-497d-bb10-da5ab732524c",
   "metadata": {
    "tags": []
   },
   "outputs": [
    {
     "data": {
      "text/html": [
       "<div>\n",
       "<style scoped>\n",
       "    .dataframe tbody tr th:only-of-type {\n",
       "        vertical-align: middle;\n",
       "    }\n",
       "\n",
       "    .dataframe tbody tr th {\n",
       "        vertical-align: top;\n",
       "    }\n",
       "\n",
       "    .dataframe thead th {\n",
       "        text-align: right;\n",
       "    }\n",
       "</style>\n",
       "<table border=\"1\" class=\"dataframe\">\n",
       "  <thead>\n",
       "    <tr style=\"text-align: right;\">\n",
       "      <th></th>\n",
       "      <th>name</th>\n",
       "      <th>id</th>\n",
       "      <th>align</th>\n",
       "      <th>eye</th>\n",
       "      <th>hair</th>\n",
       "      <th>gender</th>\n",
       "      <th>gsm</th>\n",
       "      <th>alive</th>\n",
       "      <th>appearances</th>\n",
       "      <th>first_appear</th>\n",
       "      <th>publisher</th>\n",
       "    </tr>\n",
       "  </thead>\n",
       "  <tbody>\n",
       "    <tr>\n",
       "      <th>0</th>\n",
       "      <td>Spider-Man (Peter Parker)</td>\n",
       "      <td>Secret</td>\n",
       "      <td>Good</td>\n",
       "      <td>Hazel Eyes</td>\n",
       "      <td>Brown Hair</td>\n",
       "      <td>Male</td>\n",
       "      <td>NaN</td>\n",
       "      <td>Living Characters</td>\n",
       "      <td>4043.0</td>\n",
       "      <td>Aug-62</td>\n",
       "      <td>marvel</td>\n",
       "    </tr>\n",
       "    <tr>\n",
       "      <th>1</th>\n",
       "      <td>Captain America (Steven Rogers)</td>\n",
       "      <td>Public</td>\n",
       "      <td>Good</td>\n",
       "      <td>Blue Eyes</td>\n",
       "      <td>White Hair</td>\n",
       "      <td>Male</td>\n",
       "      <td>NaN</td>\n",
       "      <td>Living Characters</td>\n",
       "      <td>3360.0</td>\n",
       "      <td>Mar-41</td>\n",
       "      <td>marvel</td>\n",
       "    </tr>\n",
       "    <tr>\n",
       "      <th>2</th>\n",
       "      <td>Wolverine (James \\\"Logan\\\" Howlett)</td>\n",
       "      <td>Public</td>\n",
       "      <td>Neutral</td>\n",
       "      <td>Blue Eyes</td>\n",
       "      <td>Black Hair</td>\n",
       "      <td>Male</td>\n",
       "      <td>NaN</td>\n",
       "      <td>Living Characters</td>\n",
       "      <td>3061.0</td>\n",
       "      <td>Oct-74</td>\n",
       "      <td>marvel</td>\n",
       "    </tr>\n",
       "    <tr>\n",
       "      <th>3</th>\n",
       "      <td>Iron Man (Anthony \\\"Tony\\\" Stark)</td>\n",
       "      <td>Public</td>\n",
       "      <td>Good</td>\n",
       "      <td>Blue Eyes</td>\n",
       "      <td>Black Hair</td>\n",
       "      <td>Male</td>\n",
       "      <td>NaN</td>\n",
       "      <td>Living Characters</td>\n",
       "      <td>2961.0</td>\n",
       "      <td>Mar-63</td>\n",
       "      <td>marvel</td>\n",
       "    </tr>\n",
       "    <tr>\n",
       "      <th>5</th>\n",
       "      <td>Benjamin Grimm (Earth-616)</td>\n",
       "      <td>Public</td>\n",
       "      <td>Good</td>\n",
       "      <td>Blue Eyes</td>\n",
       "      <td>No Hair</td>\n",
       "      <td>Male</td>\n",
       "      <td>NaN</td>\n",
       "      <td>Living Characters</td>\n",
       "      <td>2255.0</td>\n",
       "      <td>Nov-61</td>\n",
       "      <td>marvel</td>\n",
       "    </tr>\n",
       "    <tr>\n",
       "      <th>...</th>\n",
       "      <td>...</td>\n",
       "      <td>...</td>\n",
       "      <td>...</td>\n",
       "      <td>...</td>\n",
       "      <td>...</td>\n",
       "      <td>...</td>\n",
       "      <td>...</td>\n",
       "      <td>...</td>\n",
       "      <td>...</td>\n",
       "      <td>...</td>\n",
       "      <td>...</td>\n",
       "    </tr>\n",
       "    <tr>\n",
       "      <th>23267</th>\n",
       "      <td>Nadine West (New Earth)</td>\n",
       "      <td>Public</td>\n",
       "      <td>Good</td>\n",
       "      <td>NaN</td>\n",
       "      <td>NaN</td>\n",
       "      <td>Female</td>\n",
       "      <td>NaN</td>\n",
       "      <td>Living Characters</td>\n",
       "      <td>NaN</td>\n",
       "      <td>NaN</td>\n",
       "      <td>dc</td>\n",
       "    </tr>\n",
       "    <tr>\n",
       "      <th>23268</th>\n",
       "      <td>Warren Harding (New Earth)</td>\n",
       "      <td>Public</td>\n",
       "      <td>Good</td>\n",
       "      <td>NaN</td>\n",
       "      <td>NaN</td>\n",
       "      <td>Male</td>\n",
       "      <td>NaN</td>\n",
       "      <td>Living Characters</td>\n",
       "      <td>NaN</td>\n",
       "      <td>NaN</td>\n",
       "      <td>dc</td>\n",
       "    </tr>\n",
       "    <tr>\n",
       "      <th>23269</th>\n",
       "      <td>William Harrison (New Earth)</td>\n",
       "      <td>Public</td>\n",
       "      <td>Good</td>\n",
       "      <td>NaN</td>\n",
       "      <td>NaN</td>\n",
       "      <td>Male</td>\n",
       "      <td>NaN</td>\n",
       "      <td>Living Characters</td>\n",
       "      <td>NaN</td>\n",
       "      <td>NaN</td>\n",
       "      <td>dc</td>\n",
       "    </tr>\n",
       "    <tr>\n",
       "      <th>23270</th>\n",
       "      <td>William McKinley (New Earth)</td>\n",
       "      <td>Public</td>\n",
       "      <td>Good</td>\n",
       "      <td>NaN</td>\n",
       "      <td>NaN</td>\n",
       "      <td>Male</td>\n",
       "      <td>NaN</td>\n",
       "      <td>Living Characters</td>\n",
       "      <td>NaN</td>\n",
       "      <td>NaN</td>\n",
       "      <td>dc</td>\n",
       "    </tr>\n",
       "    <tr>\n",
       "      <th>23271</th>\n",
       "      <td>Mookie (New Earth)</td>\n",
       "      <td>Public</td>\n",
       "      <td>Bad</td>\n",
       "      <td>Blue Eyes</td>\n",
       "      <td>Blond Hair</td>\n",
       "      <td>Male</td>\n",
       "      <td>NaN</td>\n",
       "      <td>Living Characters</td>\n",
       "      <td>NaN</td>\n",
       "      <td>NaN</td>\n",
       "      <td>dc</td>\n",
       "    </tr>\n",
       "  </tbody>\n",
       "</table>\n",
       "<p>15692 rows × 11 columns</p>\n",
       "</div>"
      ],
      "text/plain": [
       "                                      name      id    align         eye  \\\n",
       "0                Spider-Man (Peter Parker)  Secret     Good  Hazel Eyes   \n",
       "1          Captain America (Steven Rogers)  Public     Good   Blue Eyes   \n",
       "2      Wolverine (James \\\"Logan\\\" Howlett)  Public  Neutral   Blue Eyes   \n",
       "3        Iron Man (Anthony \\\"Tony\\\" Stark)  Public     Good   Blue Eyes   \n",
       "5               Benjamin Grimm (Earth-616)  Public     Good   Blue Eyes   \n",
       "...                                    ...     ...      ...         ...   \n",
       "23267              Nadine West (New Earth)  Public     Good         NaN   \n",
       "23268           Warren Harding (New Earth)  Public     Good         NaN   \n",
       "23269         William Harrison (New Earth)  Public     Good         NaN   \n",
       "23270         William McKinley (New Earth)  Public     Good         NaN   \n",
       "23271                   Mookie (New Earth)  Public      Bad   Blue Eyes   \n",
       "\n",
       "             hair  gender  gsm              alive  appearances first_appear  \\\n",
       "0      Brown Hair    Male  NaN  Living Characters       4043.0       Aug-62   \n",
       "1      White Hair    Male  NaN  Living Characters       3360.0       Mar-41   \n",
       "2      Black Hair    Male  NaN  Living Characters       3061.0       Oct-74   \n",
       "3      Black Hair    Male  NaN  Living Characters       2961.0       Mar-63   \n",
       "5         No Hair    Male  NaN  Living Characters       2255.0       Nov-61   \n",
       "...           ...     ...  ...                ...          ...          ...   \n",
       "23267         NaN  Female  NaN  Living Characters          NaN          NaN   \n",
       "23268         NaN    Male  NaN  Living Characters          NaN          NaN   \n",
       "23269         NaN    Male  NaN  Living Characters          NaN          NaN   \n",
       "23270         NaN    Male  NaN  Living Characters          NaN          NaN   \n",
       "23271  Blond Hair    Male  NaN  Living Characters          NaN          NaN   \n",
       "\n",
       "      publisher  \n",
       "0        marvel  \n",
       "1        marvel  \n",
       "2        marvel  \n",
       "3        marvel  \n",
       "5        marvel  \n",
       "...         ...  \n",
       "23267        dc  \n",
       "23268        dc  \n",
       "23269        dc  \n",
       "23270        dc  \n",
       "23271        dc  \n",
       "\n",
       "[15692 rows x 11 columns]"
      ]
     },
     "execution_count": 46,
     "metadata": {},
     "output_type": "execute_result"
    }
   ],
   "source": [
    "##Crear un filtro para filtrar datos, primeramente se debe espeficificar un objeto\n",
    "\n",
    "datos_filtrados = datos[datos.id.isin(['Secret' , 'Public'])]\n",
    "datos_filtrados\n"
   ]
  },
  {
   "cell_type": "code",
   "execution_count": 47,
   "id": "e81e9817-1398-4d64-96fc-4c8494fa33bf",
   "metadata": {
    "tags": []
   },
   "outputs": [
    {
     "data": {
      "text/plain": [
       "<Axes: ylabel='id'>"
      ]
     },
     "execution_count": 47,
     "metadata": {},
     "output_type": "execute_result"
    },
    {
     "data": {
      "image/png": "[encoded data removed]",
      "text/plain": [
       "<Figure size 640x480 with 1 Axes>"
      ]
     },
     "metadata": {},
     "output_type": "display_data"
    }
   ],
   "source": [
    "## Verificacion graficar de haber omitido la categoria filtrada\n",
    "\n",
    "grafico1_1 = pd.crosstab(datos_filtrados.id,datos_filtrados.publisher)\n",
    "datos_porcentuales_grafico = grafico1_1.apply(lambda x: (x*100)/sum(x),axis=1)\n",
    "datos_porcentuales_grafico.plot.barh(stacked=True)\n",
    "\n"
   ]
  },
  {
   "cell_type": "code",
   "execution_count": null,
   "id": "e318ab15-1bc3-4844-9e2d-956c885251ab",
   "metadata": {},
   "outputs": [],
   "source": []
  }
 ],
 "metadata": {
  "kernelspec": {
   "display_name": "Python 3 (ipykernel)",
   "language": "python",
   "name": "python3"
  },
  "language_info": {
   "codemirror_mode": {
    "name": "ipython",
    "version": 3
   },
   "file_extension": ".py",
   "mimetype": "text/x-python",
   "name": "python",
   "nbconvert_exporter": "python",
   "pygments_lexer": "ipython3",
   "version": "3.9.7"
  }
 },
 "nbformat": 4,
 "nbformat_minor": 5
}
